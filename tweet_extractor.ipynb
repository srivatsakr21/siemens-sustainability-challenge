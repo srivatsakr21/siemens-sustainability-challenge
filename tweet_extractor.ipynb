{
  "nbformat": 4,
  "nbformat_minor": 0,
  "metadata": {
    "colab": {
      "name": "Untitled8.ipynb",
      "provenance": [],
      "authorship_tag": "ABX9TyPT6RiFGYBo88GT/5xHxJGz",
      "include_colab_link": true
    },
    "kernelspec": {
      "name": "python3",
      "display_name": "Python 3"
    },
    "language_info": {
      "name": "python"
    }
  },
  "cells": [
    {
      "cell_type": "markdown",
      "metadata": {
        "id": "view-in-github",
        "colab_type": "text"
      },
      "source": [
        "<a href=\"https://colab.research.google.com/github/srivatsakr21/siemens-sustainability-challenge/blob/main/tweet_extractor.ipynb\" target=\"_parent\"><img src=\"https://colab.research.google.com/assets/colab-badge.svg\" alt=\"Open In Colab\"/></a>"
      ]
    },
    {
      "cell_type": "markdown",
      "metadata": {
        "id": "-HvFfcQSGhqL"
      },
      "source": [
        ""
      ]
    },
    {
      "cell_type": "markdown",
      "metadata": {
        "id": "Cx8qKzvmGh5X"
      },
      "source": [
        "# **Tweet Extractor**\n",
        "This notebook is for used during the first phase of our analysis. This is used to extract the tweet given the keywords and the date range. The tweets are then stored on to a csv file for further analysis."
      ]
    },
    {
      "cell_type": "code",
      "metadata": {
        "id": "OzAvRq9yVC91"
      },
      "source": [
        "import os\n",
        "import tweepy as tw\n",
        "import pandas as pd"
      ],
      "execution_count": 4,
      "outputs": []
    },
    {
      "cell_type": "code",
      "metadata": {
        "id": "odcUvytzXb03"
      },
      "source": [
        "consumer_key= ''\n",
        "consumer_secret= ''\n",
        "access_token= ''\n",
        "access_token_secret= ''"
      ],
      "execution_count": 5,
      "outputs": []
    },
    {
      "cell_type": "code",
      "metadata": {
        "id": "cw9P3HgYXsHS"
      },
      "source": [
        "auth = tw.OAuthHandler(consumer_key, consumer_secret)\n",
        "auth.set_access_token(access_token, access_token_secret)\n",
        "api = tw.API(auth, wait_on_rate_limit=True)"
      ],
      "execution_count": 6,
      "outputs": []
    },
    {
      "cell_type": "code",
      "metadata": {
        "id": "2VXlL3ojXvIm"
      },
      "source": [
        "search_words = \"Sustainability AND Siemens\"\n",
        "date_since = \"2020-11-27\"\n",
        "date_until = \"2020-12-01\""
      ],
      "execution_count": 13,
      "outputs": []
    },
    {
      "cell_type": "code",
      "metadata": {
        "id": "TLA2KnB4YSxM"
      },
      "source": [
        "tweets = tw.Cursor(api.search,\n",
        "               q=search_words,\n",
        "              lang=\"en\",\n",
        "              since=date_since, untill=date_until\n",
        "              ).items(5000)"
      ],
      "execution_count": 14,
      "outputs": []
    },
    {
      "cell_type": "code",
      "metadata": {
        "id": "bvt1p9OuYdbq"
      },
      "source": [
        "all_tweets = []\n",
        "for tweet in tweets:\n",
        "    all_tweets.append(tweet.text)"
      ],
      "execution_count": 15,
      "outputs": []
    },
    {
      "cell_type": "code",
      "metadata": {
        "colab": {
          "base_uri": "https://localhost:8080/"
        },
        "id": "IjHHPO8Lo0oG",
        "outputId": "6ed7edd3-cdcb-4fa0-9d60-2c23ea691f6c"
      },
      "source": [
        "all_tweets"
      ],
      "execution_count": 383,
      "outputs": [
        {
          "output_type": "execute_result",
          "data": {
            "text/plain": [
              "['RT @myglyricbot: spark, those embers flaring up again. before getting touched by oil, they are swallowed. without a doubt, everything will…',\n",
              " 'RT @sustainab_data: Share of CO2 emissions in #Burkina Faso in 2019:\\nOil: 97.3%\\nCement: 2.7%\\nCoal: 0.0%\\nGas: 0.0%\\nFlaring: 0.0%\\nOther: 0.0%…',\n",
              " 'Share of CO2 emissions in #Burkina Faso in 2019:\\nOil: 97.3%\\nCement: 2.7%\\nCoal: 0.0%\\nGas: 0.0%\\nFlaring: 0.0%\\nOther:… https://t.co/reAxjHei7H',\n",
              " 'RT @EDFtx: Major oil and gas producing states like Colorado and New Mexico have already shown that ending routine flaring is possible.\\n\\nIf…',\n",
              " \"@Shruti_my_voice Not just Upstream ops, sorry, all it's operations! (Includes refining , lube oil blending, petroch… https://t.co/uo7l45R9t1\",\n",
              " '@VjShanks @BhaskarTrivedi8 @madhavijadhav @AnujaDate @scottishladki I’ll say flaring is a bitch and a beast from th… https://t.co/JGxdxUryta',\n",
              " 'RT @accountable_us: Methane pollution, which Build Back Better aims to regulate via fees, accounts for ONE-FIFTH of human-caused planetary…',\n",
              " 'RT @myglyricbot: spark, those embers flaring up again. before getting touched by oil, they are swallowed. without a doubt, everything will…',\n",
              " 'RT @EDFtx: Major oil and gas producing states like Colorado and New Mexico have already shown that ending routine flaring is possible.\\n\\nIf…',\n",
              " 'RT @EDFtx: Major oil and gas producing states like Colorado and New Mexico have already shown that ending routine flaring is possible.\\n\\nIf…',\n",
              " 'RT @EDFtx: Major oil and gas producing states like Colorado and New Mexico have already shown that ending routine flaring is possible.\\n\\nIf…',\n",
              " 'RT @EDFtx: Major oil and gas producing states like Colorado and New Mexico have already shown that ending routine flaring is possible.\\n\\nIf…',\n",
              " 'RT @myglyricbot: spark, those embers flaring up again. before getting touched by oil, they are swallowed. without a doubt, everything will…',\n",
              " 'RT @myglyricbot: spark, those embers flaring up again. before getting touched by oil, they are swallowed. without a doubt, everything will…',\n",
              " 'RT @myglyricbot: spark, those embers flaring up again. before getting touched by oil, they are swallowed. without a doubt, everything will…',\n",
              " 'RT @myglyricbot: spark, those embers flaring up again. before getting touched by oil, they are swallowed. without a doubt, everything will…',\n",
              " 'RT @myglyricbot: spark, those embers flaring up again. before getting touched by oil, they are swallowed. without a doubt, everything will…',\n",
              " 'RT @myglyricbot: spark, those embers flaring up again. before getting touched by oil, they are swallowed. without a doubt, everything will…',\n",
              " 'spark, those embers flaring up again. before getting touched by oil, they are swallowed. without a doubt, everythin… https://t.co/n9mfbQ5tgc',\n",
              " 'RT @EDFtx: Major oil and gas producing states like Colorado and New Mexico have already shown that ending routine flaring is possible.\\n\\nIf…',\n",
              " 'Major oil and gas producing states like Colorado and New Mexico have already shown that ending routine flaring is p… https://t.co/z7sPxZxzCs',\n",
              " '@FinPlanKaluAja1 How are they going to address gas flaring and probable oil spillage?\\n\\nIs Lagos State ready for this challenge?',\n",
              " 'RT @sustainab_data: Share of CO2 emissions in #Germany in 2019:\\nOil: 38.4%\\nCoal: 33.6%\\nGas: 24.6%\\nCement: 1.9%\\nOther: 1.2%\\nFlaring: 0.3%\\n\\nD…',\n",
              " 'Share of CO2 emissions in #Germany in 2019:\\nOil: 38.4%\\nCoal: 33.6%\\nGas: 24.6%\\nCement: 1.9%\\nOther: 1.2%\\nFlaring: 0.3… https://t.co/D4mkTUwPtu',\n",
              " 'Gas flaring is burning wasted oil. The equivalent of 2.4 million cars worth of toxic fumes every day.',\n",
              " 'RT @doktorkif: CBD balm/oil after year helps. Reduces inflamations but allergy flaring up seems to make a nonsense of thinking CBD helps (i…',\n",
              " 'CBD balm/oil after year helps. Reduces inflamations but allergy flaring up seems to make a nonsense of thinking CBD… https://t.co/36FUN8V64W',\n",
              " 'RT @sustainab_data: Share of CO2 emissions in #Yemen in 2019:\\nOil: 76.4%\\nGas: 12.2%\\nCement: 8.2%\\nCoal: 3.3%\\nFlaring: 0.0%\\nOther: 0.0%\\n\\nData…',\n",
              " 'Share of CO2 emissions in #Yemen in 2019:\\nOil: 76.4%\\nGas: 12.2%\\nCement: 8.2%\\nCoal: 3.3%\\nFlaring: 0.0%\\nOther: 0.0%… https://t.co/EL2x98I3fK',\n",
              " 'RT @Mark_LaCour: Could Bitcoin Solve The Oil Flaring Problem? https://t.co/U8oH2mvbMH',\n",
              " 'Could Bitcoin Solve The Oil Flaring Problem? https://t.co/U8oH2mvbMH',\n",
              " 'Over the last 3 months, ExxonMobil, the American Petroleum Institute and other fossil fuel interests have flooded F… https://t.co/tx33N6Lu6K',\n",
              " 'RT @sustainab_data: Share of CO2 emissions in #Jordan in 2019:\\nOil: 58.8%\\nGas: 32.5%\\nCement: 6.4%\\nCoal: 2.2%\\nFlaring: 0.0%\\nOther: 0.0%\\n\\nDat…',\n",
              " 'Share of CO2 emissions in #Jordan in 2019:\\nOil: 58.8%\\nGas: 32.5%\\nCement: 6.4%\\nCoal: 2.2%\\nFlaring: 0.0%\\nOther: 0.0%… https://t.co/uJ1LnpClId',\n",
              " 'RT @MarineInsight: Is This FIRE?\\nNo...This is FLARING.\\n\\nFlaring is the controlled burning of natural gas and common practice in oil/gas exp…',\n",
              " 'RT @MarineInsight: Is This FIRE?\\nNo...This is FLARING.\\n\\nFlaring is the controlled burning of natural gas and common practice in oil/gas exp…',\n",
              " 'RT @MarineInsight: Is This FIRE?\\nNo...This is FLARING.\\n\\nFlaring is the controlled burning of natural gas and common practice in oil/gas exp…',\n",
              " 'RT @MarineInsight: Is This FIRE?\\nNo...This is FLARING.\\n\\nFlaring is the controlled burning of natural gas and common practice in oil/gas exp…',\n",
              " 'RT @MarineInsight: Is This FIRE?\\nNo...This is FLARING.\\n\\nFlaring is the controlled burning of natural gas and common practice in oil/gas exp…',\n",
              " 'RT @MarineInsight: Is This FIRE?\\nNo...This is FLARING.\\n\\nFlaring is the controlled burning of natural gas and common practice in oil/gas exp…',\n",
              " 'RT @MarineInsight: Is This FIRE?\\nNo...This is FLARING.\\n\\nFlaring is the controlled burning of natural gas and common practice in oil/gas exp…',\n",
              " 'Is This FIRE?\\nNo...This is FLARING.\\n\\nFlaring is the controlled burning of natural gas and common practice in oil/ga… https://t.co/GFkbN6qgph',\n",
              " 'There are thought to be over 10,000 gas flares around the world (a by-product of oil extraction) which contribute t… https://t.co/axI3343gJq',\n",
              " 'RT @sustainab_data: Share of CO2 emissions in #United Kingdom in 2019:\\nOil: 45.8%\\nGas: 43.6%\\nCoal: 7.4%\\nFlaring: 1.2%\\nCement: 1.2%\\nOther: 0…',\n",
              " 'Share of CO2 emissions in #United Kingdom in 2019:\\nOil: 45.8%\\nGas: 43.6%\\nCoal: 7.4%\\nFlaring: 1.2%\\nCement: 1.2%\\nOthe… https://t.co/YxFNdxCANA',\n",
              " '@PXDtweets is the latest oil company to commit to ending routine flaring by 2030. Who are the others?… https://t.co/4CJBZDY2sr',\n",
              " '@_max_m @bchydro @FortisBC Not relevant compared to how much methane is leaked from extracting oil&amp;gas, + from flar… https://t.co/haYQAZXfNT',\n",
              " 'RT @PaulEDawson: Almost 20m tonnes of CO2 was released into the atmosphere over the five years to 2019 by \"flaring and venting\" the extra g…',\n",
              " '@Hchris1012 @seanmdav I meant “in process”, I knew TX shake was more oil prod, didn’t know if they were flaring nat… https://t.co/k1PgnM7czF',\n",
              " 'RT @PaulEDawson: Almost 20m tonnes of CO2 was released into the atmosphere over the five years to 2019 by \"flaring and venting\" the extra g…',\n",
              " '@ChuckGrassley would support freezing/ending oil, gas, ethanol, natural gas exports &amp; release oil reserves\\nAND refi… https://t.co/spTgFu2FjB',\n",
              " \"Texas, the nation's largest oil producer, is behind the times on flaring.\\n\\nAs state regulators refuse to address th… https://t.co/Mlxx29XIqf\",\n",
              " 'As emissions of valuable energy resources go unchecked, federal protections to #CutMethane gain support of investor… https://t.co/Ys79cmlt4b',\n",
              " 'RT @sustainab_data: Share of CO2 emissions in #Saint Vincent and the Grenadines in 2019:\\nOil: 100.0%\\nCoal: 0.0%\\nGas: 0.0%\\nCement: 0.0%\\nFlar…',\n",
              " 'Share of CO2 emissions in #Saint Vincent and the Grenadines in 2019:\\nOil: 100.0%\\nCoal: 0.0%\\nGas: 0.0%\\nCement: 0.0%… https://t.co/HQuvjtQjmW',\n",
              " 'RT @PaulEDawson: Almost 20m tonnes of CO2 was released into the atmosphere over the five years to 2019 by \"flaring and venting\" the extra g…',\n",
              " 'RT @PaulEDawson: Almost 20m tonnes of CO2 was released into the atmosphere over the five years to 2019 by \"flaring and venting\" the extra g…',\n",
              " 'RT @PaulEDawson: Almost 20m tonnes of CO2 was released into the atmosphere over the five years to 2019 by \"flaring and venting\" the extra g…',\n",
              " 'RT @PaulEDawson: Almost 20m tonnes of CO2 was released into the atmosphere over the five years to 2019 by \"flaring and venting\" the extra g…',\n",
              " 'RT @PaulEDawson: Almost 20m tonnes of CO2 was released into the atmosphere over the five years to 2019 by \"flaring and venting\" the extra g…',\n",
              " 'RT @PaulEDawson: Almost 20m tonnes of CO2 was released into the atmosphere over the five years to 2019 by \"flaring and venting\" the extra g…',\n",
              " 'RT @PaulEDawson: Almost 20m tonnes of CO2 was released into the atmosphere over the five years to 2019 by \"flaring and venting\" the extra g…',\n",
              " 'RT @PaulEDawson: Almost 20m tonnes of CO2 was released into the atmosphere over the five years to 2019 by \"flaring and venting\" the extra g…',\n",
              " 'RT @PaulEDawson: Almost 20m tonnes of CO2 was released into the atmosphere over the five years to 2019 by \"flaring and venting\" the extra g…',\n",
              " 'RT @PaulEDawson: Almost 20m tonnes of CO2 was released into the atmosphere over the five years to 2019 by \"flaring and venting\" the extra g…',\n",
              " 'RT @PaulEDawson: Almost 20m tonnes of CO2 was released into the atmosphere over the five years to 2019 by \"flaring and venting\" the extra g…',\n",
              " 'Ban gas flaring on all oil/gas production platforms in UK, in UK waters or on UK licensed oil/gas fields.',\n",
              " 'RT @PaulEDawson: Almost 20m tonnes of CO2 was released into the atmosphere over the five years to 2019 by \"flaring and venting\" the extra g…',\n",
              " 'RT @PaulEDawson: Almost 20m tonnes of CO2 was released into the atmosphere over the five years to 2019 by \"flaring and venting\" the extra g…',\n",
              " 'RT @PaulEDawson: Almost 20m tonnes of CO2 was released into the atmosphere over the five years to 2019 by \"flaring and venting\" the extra g…',\n",
              " 'RT @PaulEDawson: Almost 20m tonnes of CO2 was released into the atmosphere over the five years to 2019 by \"flaring and venting\" the extra g…',\n",
              " 'RT @PaulEDawson: Almost 20m tonnes of CO2 was released into the atmosphere over the five years to 2019 by \"flaring and venting\" the extra g…',\n",
              " 'RT @PaulEDawson: Almost 20m tonnes of CO2 was released into the atmosphere over the five years to 2019 by \"flaring and venting\" the extra g…',\n",
              " 'RT @PaulEDawson: Almost 20m tonnes of CO2 was released into the atmosphere over the five years to 2019 by \"flaring and venting\" the extra g…',\n",
              " 'RT @PaulEDawson: Almost 20m tonnes of CO2 was released into the atmosphere over the five years to 2019 by \"flaring and venting\" the extra g…',\n",
              " 'RT @PaulEDawson: Almost 20m tonnes of CO2 was released into the atmosphere over the five years to 2019 by \"flaring and venting\" the extra g…',\n",
              " 'RT @PaulEDawson: Almost 20m tonnes of CO2 was released into the atmosphere over the five years to 2019 by \"flaring and venting\" the extra g…',\n",
              " 'RT @PaulEDawson: Almost 20m tonnes of CO2 was released into the atmosphere over the five years to 2019 by \"flaring and venting\" the extra g…',\n",
              " 'RT @PaulEDawson: Almost 20m tonnes of CO2 was released into the atmosphere over the five years to 2019 by \"flaring and venting\" the extra g…',\n",
              " 'RT @PaulEDawson: Almost 20m tonnes of CO2 was released into the atmosphere over the five years to 2019 by \"flaring and venting\" the extra g…',\n",
              " 'RT @PaulEDawson: Almost 20m tonnes of CO2 was released into the atmosphere over the five years to 2019 by \"flaring and venting\" the extra g…',\n",
              " 'RT @PaulEDawson: Almost 20m tonnes of CO2 was released into the atmosphere over the five years to 2019 by \"flaring and venting\" the extra g…',\n",
              " 'RT @PaulEDawson: Almost 20m tonnes of CO2 was released into the atmosphere over the five years to 2019 by \"flaring and venting\" the extra g…',\n",
              " 'Almost 20m tonnes of CO2 was released into the atmosphere over the five years to 2019 by \"flaring and venting\" the… https://t.co/H3sRBSTfhQ',\n",
              " \"RT @Orjility: Well, I won't argue with our governor who knows better than soldiers.\\n\\nMe, Coming from an oil Producing Local Government, I h…\",\n",
              " \"Well, I won't argue with our governor who knows better than soldiers.\\n\\nMe, Coming from an oil Producing Local Gover… https://t.co/V6UIf9Quc5\",\n",
              " 'RT @sustainab_data: Share of CO2 emissions in #Guinea-Bissau in 2019:\\nOil: 100.0%\\nCoal: 0.0%\\nGas: 0.0%\\nCement: 0.0%\\nFlaring: 0.0%\\nOther: 0.…',\n",
              " 'Share of CO2 emissions in #Guinea-Bissau in 2019:\\nOil: 100.0%\\nCoal: 0.0%\\nGas: 0.0%\\nCement: 0.0%\\nFlaring: 0.0%\\nOther… https://t.co/mVOI0aDD8R',\n",
              " '@ThomasBackaert @Audiodidakt314 @DigiEconomist 3) his last point is the worst argument ever: he makes his opponent… https://t.co/vmIozULkGr',\n",
              " '@ThomasBackaert @Audiodidakt314 @DigiEconomist The problems:\\n1) we could reduce the most polluting oil extraction (… https://t.co/P4NxaKVcJd',\n",
              " '\"The consequences of Venezuela’s crumbling oil infrastructure are both varied and severe. These include coastal spi… https://t.co/WiLCxCXNJj',\n",
              " 'Throughout our oil boom years, government has failed to legislate that oil companies would conserve gas instead of… https://t.co/TkH1oebSOh',\n",
              " 'RT @sustainab_data: Share of CO2 emissions in #Saint Kitts and Nevis in 2019:\\nOil: 100.0%\\nCoal: 0.0%\\nGas: 0.0%\\nCement: 0.0%\\nFlaring: 0.0%\\nO…',\n",
              " \"Strong, nationally leading @NMEnvDep rules will build upon the foundation laid by @GovMLG's Oil Conservation Divisi… https://t.co/fhYorxr5VA\",\n",
              " 'Share of CO2 emissions in #Saint Kitts and Nevis in 2019:\\nOil: 100.0%\\nCoal: 0.0%\\nGas: 0.0%\\nCement: 0.0%\\nFlaring: 0.… https://t.co/2LRWxogVUh',\n",
              " 'RT @ChraxanOfficial: Not a good look for  lraq, with very high carbon intensity at its Kirkuk field. Primarily driven by high flaring rates…',\n",
              " '#DEC Is this much different to oil rigs flaring loads gas?\\nhttps://t.co/BfgJUpQ5RT',\n",
              " 'RT @sustainab_data: Share of CO2 emissions in #Turks and Caicos Islands in 2019:\\nOil: 100.0%\\nCoal: 0.0%\\nGas: 0.0%\\nCement: 0.0%\\nFlaring: 0.0…',\n",
              " 'Share of CO2 emissions in #Turks and Caicos Islands in 2019:\\nOil: 100.0%\\nCoal: 0.0%\\nGas: 0.0%\\nCement: 0.0%\\nFlaring:… https://t.co/BhUPo9cVWt',\n",
              " \"RT @jethromullen: Important reminder from @fbirol ahead of #COP26 that our climate challenge isn't just about carbon\\n\\nMethane emissions hav…\",\n",
              " 'Not a good look for  lraq, with very high carbon intensity at its Kirkuk field. Primarily driven by high flaring ra… https://t.co/QHxLcDy7y9',\n",
              " 'RT @mcjpod: New episode out with @ChaseLochmiller, CEO of @CrusoeEnergy! We cover:\\n🔥Why natural gas flaring is a climate problem\\n💸Cryptocur…',\n",
              " '@O66Ogle Number five in oil and gas production, number 22 in methane flaring. Right on. Some well deserved recognit… https://t.co/D8DWidw7Xs',\n",
              " '@vivarioarriba @howarth_cornell @TXsharon As to CO2 emissions from flaring, some jurisdictions allow burning of all… https://t.co/WoECxkgivN',\n",
              " 'Big Oil Is Lying Like Mad to Keep Methane Pollution Fees out of Budget Bill https://t.co/gvcnB72IPU',\n",
              " 'RT @sakak_musdom: In US, Canada and Russia, big oil companies such as ConocoPhilips and Gazprom are experimenting with using Bitcoin to eco…',\n",
              " 'RT @ArgusMedia: 🇺🇸 News story: US oil producers are turning to an unexpected source to help solve the environmental problem of excess natur…',\n",
              " '🇺🇸 News story: US oil producers are turning to an unexpected source to help solve the environmental problem of exce… https://t.co/knO48929Fl',\n",
              " \"RT @jethromullen: Important reminder from @fbirol ahead of #COP26 that our climate challenge isn't just about carbon\\n\\nMethane emissions hav…\",\n",
              " 'Shale oil and gas producer APA Corp on Monday said it has ended routine gas flaring at its U.S. onshore operations,… https://t.co/ZuwJ52B0gc',\n",
              " \"Important reminder from @fbirol ahead of #COP26 that our climate challenge isn't just about carbon\\n\\nMethane emissio… https://t.co/TJSP3r788A\",\n",
              " '@DatCryptoBoi @glennhodl There’s north shore oil rigs paying £600k a month in fines for flaring gas to the atmosphere!',\n",
              " 'Bitcoin miners help US oil producers cut flaring | Argus Media https://t.co/ukSBwSAkGZ',\n",
              " 'RT @mcjpod: New episode out with @ChaseLochmiller, CEO of @CrusoeEnergy! We cover:\\n🔥Why natural gas flaring is a climate problem\\n💸Cryptocur…',\n",
              " '@staunovo I read stories that you could see the shale oil flaring from space.',\n",
              " 'RT @mcjpod: New episode out with @ChaseLochmiller, CEO of @CrusoeEnergy! We cover:\\n🔥Why natural gas flaring is a climate problem\\n💸Cryptocur…',\n",
              " 'RT @sustainab_data: Share of CO2 emissions in #Romania in 2019:\\nOil: 40.8%\\nGas: 28.3%\\nCoal: 23.7%\\nCement: 4.7%\\nOther: 1.8%\\nFlaring: 0.7%\\n\\nD…',\n",
              " 'Share of CO2 emissions in #Romania in 2019:\\nOil: 40.8%\\nGas: 28.3%\\nCoal: 23.7%\\nCement: 4.7%\\nOther: 1.8%\\nFlaring: 0.7… https://t.co/AAieQ143Tj',\n",
              " 'RT @sustainab_data: Share of CO2 emissions in #Thailand in 2019:\\nOil: 44.5%\\nGas: 29.0%\\nCoal: 20.7%\\nCement: 5.8%\\nFlaring: 0.0%\\nOther: 0.0%…',\n",
              " 'RT @sustainab_data: Share of CO2 emissions in #Gabon in 2019:\\nOil: 54.4%\\nFlaring: 31.5%\\nGas: 14.1%\\nCoal: 0.0%\\nCement: 0.0%\\nOther: 0.0%\\n\\nDat…',\n",
              " 'RT @FlareIntel: Our CEO Mark Davis joins Chair of the Oil and Gas Climate Initiative @BSverdrup on @BBCWorld to explore key debates around…',\n",
              " 'A new post from World Oil: Apache eliminates routine gas flaring onshore U.S., completing ESG goal early https://t.co/fNGiDAVMyx',\n",
              " 'RT @HoustonFowler: Bitcoin miners help US oil producers cut flaring in the Bakken, and soon in the Permian, writes @scunningha  https://t.c…',\n",
              " 'New episode out with @ChaseLochmiller, CEO of @CrusoeEnergy! We cover:\\n🔥Why natural gas flaring is a climate proble… https://t.co/48QzG6dfzm',\n",
              " 'RT @ArgusMedia: 🇺🇸 News story: US oil producers are turning to an unexpected source to help solve the environmental problem of excess natur…',\n",
              " 'RT @ArgusMedia: 🇺🇸 News story: US oil producers are turning to an unexpected source to help solve the environmental problem of excess natur…',\n",
              " '🇺🇸 News story: US oil producers are turning to an unexpected source to help solve the environmental problem of exce… https://t.co/AsTOEtvIqn',\n",
              " 'Our CEO Mark Davis joins Chair of the Oil and Gas Climate Initiative @BSverdrup on @BBCWorld to explore key debates… https://t.co/yIGTaa6Z4q',\n",
              " 'In US, Canada and Russia, big oil companies such as ConocoPhilips and Gazprom are experimenting with using Bitcoin… https://t.co/7Coi6Sqo2A',\n",
              " '@vicderbyshire It is ironic that an estimated 5% of harmful greenhouse gasses are coming from burning off methane a… https://t.co/AawrWdt7PD',\n",
              " 'RT @sustainab_data: Share of CO2 emissions in #Gabon in 2019:\\nOil: 54.4%\\nFlaring: 31.5%\\nGas: 14.1%\\nCoal: 0.0%\\nCement: 0.0%\\nOther: 0.0%\\n\\nDat…',\n",
              " 'Share of CO2 emissions in #Gabon in 2019:\\nOil: 54.4%\\nFlaring: 31.5%\\nGas: 14.1%\\nCoal: 0.0%\\nCement: 0.0%\\nOther: 0.0%… https://t.co/oSiPmxfxzf',\n",
              " '@drewg__ @matthew_pines @nic__carter You sir...do not understand oil and gas.  The amount of \"revenue\" generated fr… https://t.co/8lE32oMkFp',\n",
              " '@APIenergy You consider a change of occupation to comedians?\\n\\nEDF estimated that methane leaks from flaring inside… https://t.co/0giTSQkOWS',\n",
              " 'RT @PaulEDawson: Almost 20m tonnes of CO2 was released into the atmosphere over the five years to 2019 by \"flaring and venting\" the extra g…',\n",
              " '@hassankhan is using the same quantity of natgas to mine btc vs flaring actually better for the environment? and th… https://t.co/U8I0zSCLSz',\n",
              " 'RT @sustainab_data: Share of CO2 emissions in #Nepal in 2019:\\nOil: 50.3%\\nCoal: 43.7%\\nCement: 6.0%\\nGas: 0.0%\\nFlaring: 0.0%\\nOther: 0.0%\\n\\nData…',\n",
              " 'RT @sustainab_data: Share of CO2 emissions in #Nepal in 2019:\\nOil: 50.3%\\nCoal: 43.7%\\nCement: 6.0%\\nGas: 0.0%\\nFlaring: 0.0%\\nOther: 0.0%\\n\\nData…',\n",
              " 'Share of CO2 emissions in #Nepal in 2019:\\nOil: 50.3%\\nCoal: 43.7%\\nCement: 6.0%\\nGas: 0.0%\\nFlaring: 0.0%\\nOther: 0.0%… https://t.co/BAxNrk8sI4',\n",
              " 'RT @PaulEDawson: Almost 20m tonnes of CO2 was released into the atmosphere over the five years to 2019 by \"flaring and venting\" the extra g…',\n",
              " '@APompliano Wasted gas actually has a *negative* price when viewed as opportunity cost for producers in jurisdictio… https://t.co/2ZvbzBJ4i2',\n",
              " 'RT @PaulEDawson: Almost 20m tonnes of CO2 was released into the atmosphere over the five years to 2019 by \"flaring and venting\" the extra g…',\n",
              " 'RT @PaulEDawson: Almost 20m tonnes of CO2 was released into the atmosphere over the five years to 2019 by \"flaring and venting\" the extra g…',\n",
              " 'RT @PaulEDawson: Almost 20m tonnes of CO2 was released into the atmosphere over the five years to 2019 by \"flaring and venting\" the extra g…',\n",
              " 'Share of CO2 emissions in #Thailand in 2019:\\nOil: 44.5%\\nGas: 29.0%\\nCoal: 20.7%\\nCement: 5.8%\\nFlaring: 0.0%\\nOther: 0.… https://t.co/6ATJIX4Bwb',\n",
              " 'RT @PaulEDawson: Almost 20m tonnes of CO2 was released into the atmosphere over the five years to 2019 by \"flaring and venting\" the extra g…',\n",
              " 'RT @PaulEDawson: Almost 20m tonnes of CO2 was released into the atmosphere over the five years to 2019 by \"flaring and venting\" the extra g…',\n",
              " '@borisjohnson, @jeremyvine, @stormhuntley, WHO KNEW! North Sea oil rigs emit as much CO2 as coal fired power statio… https://t.co/34cNrionyR',\n",
              " 'RT @PaulEDawson: Almost 20m tonnes of CO2 was released into the atmosphere over the five years to 2019 by \"flaring and venting\" the extra g…',\n",
              " 'RT @WBG_Energy: #GasFlaring per barrel of oil produced, or “flaring intensity,” increased significantly in 2020 in fragile or conflict-affe…',\n",
              " 'Bitcoin miners help US oil producers cut flaring: https://t.co/UFEH9z1EW8',\n",
              " 'RT @PaulEDawson: Almost 20m tonnes of CO2 was released into the atmosphere over the five years to 2019 by \"flaring and venting\" the extra g…',\n",
              " 'RT @PaulEDawson: Almost 20m tonnes of CO2 was released into the atmosphere over the five years to 2019 by \"flaring and venting\" the extra g…',\n",
              " 'RT @PaulEDawson: Almost 20m tonnes of CO2 was released into the atmosphere over the five years to 2019 by \"flaring and venting\" the extra g…',\n",
              " 'RT @PaulEDawson: Almost 20m tonnes of CO2 was released into the atmosphere over the five years to 2019 by \"flaring and venting\" the extra g…',\n",
              " '@maximus__power @APompliano Exactly. If we are looking to reduce emissions why would we want to make oil and gas pr… https://t.co/YNpOVWCBwF',\n",
              " 'RT @PaulEDawson: Almost 20m tonnes of CO2 was released into the atmosphere over the five years to 2019 by \"flaring and venting\" the extra g…',\n",
              " 'RT @PaulEDawson: Almost 20m tonnes of CO2 was released into the atmosphere over the five years to 2019 by \"flaring and venting\" the extra g…',\n",
              " 'RT @PaulEDawson: Almost 20m tonnes of CO2 was released into the atmosphere over the five years to 2019 by \"flaring and venting\" the extra g…',\n",
              " 'RT @PaulEDawson: Almost 20m tonnes of CO2 was released into the atmosphere over the five years to 2019 by \"flaring and venting\" the extra g…',\n",
              " 'RT @PaulEDawson: Almost 20m tonnes of CO2 was released into the atmosphere over the five years to 2019 by \"flaring and venting\" the extra g…',\n",
              " 'RT @PaulEDawson: Almost 20m tonnes of CO2 was released into the atmosphere over the five years to 2019 by \"flaring and venting\" the extra g…',\n",
              " 'RT @PaulEDawson: Almost 20m tonnes of CO2 was released into the atmosphere over the five years to 2019 by \"flaring and venting\" the extra g…',\n",
              " 'RT @PaulEDawson: Almost 20m tonnes of CO2 was released into the atmosphere over the five years to 2019 by \"flaring and venting\" the extra g…',\n",
              " 'RT @PaulEDawson: Almost 20m tonnes of CO2 was released into the atmosphere over the five years to 2019 by \"flaring and venting\" the extra g…',\n",
              " 'RT @PaulEDawson: Almost 20m tonnes of CO2 was released into the atmosphere over the five years to 2019 by \"flaring and venting\" the extra g…',\n",
              " 'RT @PaulEDawson: Almost 20m tonnes of CO2 was released into the atmosphere over the five years to 2019 by \"flaring and venting\" the extra g…',\n",
              " 'RT @PaulEDawson: Almost 20m tonnes of CO2 was released into the atmosphere over the five years to 2019 by \"flaring and venting\" the extra g…',\n",
              " 'RT @PaulEDawson: Almost 20m tonnes of CO2 was released into the atmosphere over the five years to 2019 by \"flaring and venting\" the extra g…',\n",
              " 'RT @PaulEDawson: Almost 20m tonnes of CO2 was released into the atmosphere over the five years to 2019 by \"flaring and venting\" the extra g…',\n",
              " 'RT @PaulEDawson: Almost 20m tonnes of CO2 was released into the atmosphere over the five years to 2019 by \"flaring and venting\" the extra g…',\n",
              " 'RT @PaulEDawson: Almost 20m tonnes of CO2 was released into the atmosphere over the five years to 2019 by \"flaring and venting\" the extra g…',\n",
              " 'RT @PaulEDawson: Almost 20m tonnes of CO2 was released into the atmosphere over the five years to 2019 by \"flaring and venting\" the extra g…',\n",
              " 'RT @PaulEDawson: Almost 20m tonnes of CO2 was released into the atmosphere over the five years to 2019 by \"flaring and venting\" the extra g…',\n",
              " 'RT @PaulEDawson: Almost 20m tonnes of CO2 was released into the atmosphere over the five years to 2019 by \"flaring and venting\" the extra g…',\n",
              " 'RT @PaulEDawson: Almost 20m tonnes of CO2 was released into the atmosphere over the five years to 2019 by \"flaring and venting\" the extra g…',\n",
              " 'RT @PaulEDawson: Almost 20m tonnes of CO2 was released into the atmosphere over the five years to 2019 by \"flaring and venting\" the extra g…',\n",
              " 'RT @PaulEDawson: Almost 20m tonnes of CO2 was released into the atmosphere over the five years to 2019 by \"flaring and venting\" the extra g…',\n",
              " 'RT @PaulEDawson: Almost 20m tonnes of CO2 was released into the atmosphere over the five years to 2019 by \"flaring and venting\" the extra g…',\n",
              " 'RT @PaulEDawson: Almost 20m tonnes of CO2 was released into the atmosphere over the five years to 2019 by \"flaring and venting\" the extra g…',\n",
              " 'RT @PaulEDawson: Almost 20m tonnes of CO2 was released into the atmosphere over the five years to 2019 by \"flaring and venting\" the extra g…',\n",
              " 'RT @PaulEDawson: Almost 20m tonnes of CO2 was released into the atmosphere over the five years to 2019 by \"flaring and venting\" the extra g…',\n",
              " 'RT @EinsteinMillan: How good is #exxonmobil’s word?\\nIn only a few months took #guyana to be number 6 in the world in toxic emissions: #OOTT…',\n",
              " 'RT @PaulEDawson: Almost 20m tonnes of CO2 was released into the atmosphere over the five years to 2019 by \"flaring and venting\" the extra g…',\n",
              " 'RT @PaulEDawson: Almost 20m tonnes of CO2 was released into the atmosphere over the five years to 2019 by \"flaring and venting\" the extra g…',\n",
              " 'How good is #exxonmobil’s word?\\nIn only a few months took #guyana to be number 6 in the world in toxic emissions:… https://t.co/Fwk0PAZ0e1',\n",
              " 'RT @PaulEDawson: Almost 20m tonnes of CO2 was released into the atmosphere over the five years to 2019 by \"flaring and venting\" the extra g…',\n",
              " 'RT @PaulEDawson: Almost 20m tonnes of CO2 was released into the atmosphere over the five years to 2019 by \"flaring and venting\" the extra g…',\n",
              " 'RT @PaulEDawson: Almost 20m tonnes of CO2 was released into the atmosphere over the five years to 2019 by \"flaring and venting\" the extra g…',\n",
              " 'RT @PaulEDawson: Almost 20m tonnes of CO2 was released into the atmosphere over the five years to 2019 by \"flaring and venting\" the extra g…',\n",
              " 'RT @PaulEDawson: Almost 20m tonnes of CO2 was released into the atmosphere over the five years to 2019 by \"flaring and venting\" the extra g…',\n",
              " 'RT @PaulEDawson: Almost 20m tonnes of CO2 was released into the atmosphere over the five years to 2019 by \"flaring and venting\" the extra g…',\n",
              " 'RT @PaulEDawson: Almost 20m tonnes of CO2 was released into the atmosphere over the five years to 2019 by \"flaring and venting\" the extra g…',\n",
              " 'RT @PaulEDawson: Almost 20m tonnes of CO2 was released into the atmosphere over the five years to 2019 by \"flaring and venting\" the extra g…',\n",
              " 'RT @PaulEDawson: Almost 20m tonnes of CO2 was released into the atmosphere over the five years to 2019 by \"flaring and venting\" the extra g…',\n",
              " 'RT @PaulEDawson: Almost 20m tonnes of CO2 was released into the atmosphere over the five years to 2019 by \"flaring and venting\" the extra g…',\n",
              " 'RT @PaulEDawson: Almost 20m tonnes of CO2 was released into the atmosphere over the five years to 2019 by \"flaring and venting\" the extra g…',\n",
              " 'RT @PaulEDawson: Almost 20m tonnes of CO2 was released into the atmosphere over the five years to 2019 by \"flaring and venting\" the extra g…',\n",
              " 'RT @PaulEDawson: Almost 20m tonnes of CO2 was released into the atmosphere over the five years to 2019 by \"flaring and venting\" the extra g…',\n",
              " 'RT @PaulEDawson: Almost 20m tonnes of CO2 was released into the atmosphere over the five years to 2019 by \"flaring and venting\" the extra g…',\n",
              " 'RT @PaulEDawson: Almost 20m tonnes of CO2 was released into the atmosphere over the five years to 2019 by \"flaring and venting\" the extra g…',\n",
              " 'RT @PaulEDawson: Almost 20m tonnes of CO2 was released into the atmosphere over the five years to 2019 by \"flaring and venting\" the extra g…',\n",
              " 'Almost 20m tonnes of CO2 was released into the atmosphere over the five years to 2019 by \"flaring and venting\" the… https://t.co/dIm1eKaZYM',\n",
              " 'Share of CO2 emissions in #Rwanda in 2019:\\nOil: 84.5%\\nCement: 11.8%\\nGas: 3.7%\\nCoal: 0.0%\\nFlaring: 0.0%\\nOther: 0.0%… https://t.co/s66DmIPygh',\n",
              " 'RT @bakkenblog: Bitcoin miners help Bakken oil producers cut flaring.\\nArgusMedia➛ https://t.co/3spIKgrrty #bakken #NorthDakota #Montana',\n",
              " 'Bitcoin miners help Bakken oil producers cut flaring.\\nArgusMedia➛ https://t.co/3spIKgrrty #bakken #NorthDakota #Montana',\n",
              " 'RT @scunningha: #Bitcoin and the Bakken https://t.co/Fh8N2qzgeB',\n",
              " '@ChristiCraddick If only we had real regulation at the TRRC #txlege @texasdemocrats @TexasGOP  https://t.co/8VMzH6xUfC',\n",
              " 'Share of CO2 emissions in #Slovenia in 2019:\\nOil: 50.0%\\nCoal: 32.6%\\nGas: 12.4%\\nCement: 3.3%\\nFlaring: 1.0%\\nOther: 0.… https://t.co/tJce7QkoeP',\n",
              " 'Bitcoin miners help US oil producers cut flaring: https://t.co/UFEH9z1EW8',\n",
              " \"@aaronthomm @timburchett As someone who works for big oil.  Pipelines and banning frac'ing on federal land have a g… https://t.co/7I0bb9eTHe\",\n",
              " '@blueyedpiscez Yeah @FrancescaMielke put silvadine and wrapped up my arm. Just burning, something in my body is fla… https://t.co/rZfQyZU6Da',\n",
              " 'RT @staunovo: Bitcoin miners help US oil producers cut flaring #oott https://t.co/Hb9q1Sj2Gt',\n",
              " 'RT @scunningha: #Bitcoin and the Bakken https://t.co/Fh8N2qzgeB',\n",
              " 'Bitcoin miners help US oil producers cut flaring #Bitcoin via https://t.co/Wu6krrpZxr https://t.co/XMGlEUoCSK',\n",
              " 'RT @scunningha: #Bitcoin and the Bakken https://t.co/Fh8N2qzgeB',\n",
              " 'It’s better than flaring 🤔: https://t.co/Vwz7lEFKtO',\n",
              " 'RT @scunningha: #Bitcoin and the Bakken https://t.co/Fh8N2qzgeB',\n",
              " '#Bitcoin and the Bakken https://t.co/Fh8N2qzgeB',\n",
              " 'RT @HoustonFowler: Bitcoin miners help US oil producers cut flaring in the Bakken, and soon in the Permian, writes @scunningha  https://t.c…',\n",
              " 'RT @staunovo: Bitcoin miners help US oil producers cut flaring #oott https://t.co/Hb9q1Sj2Gt',\n",
              " 'Bitcoin miners help US oil producers cut flaring #oott https://t.co/Hb9q1Sj2Gt',\n",
              " 'Bitcoin miners help US oil producers cut flaring | Argus Media https://t.co/PSIbyLU0uf',\n",
              " 'RT @ProgressNowNM: \"Strong, nationally leading @NMEnvDep rules will build upon the foundation laid by @GovMLG\\'s Oil Conservation Division w…',\n",
              " 'From the Texas Railroad Commission, the agency that regulates oil and gas in Texas: \"Flaring Continues Decline\" https://t.co/zVzXqL3SKJ',\n",
              " 'RT @CleanAirMoms_NM: \"Strong, nationally leading @NMEnvDep rules will build upon the foundation laid by @GovMLG\\'s Oil Conservation Division…',\n",
              " '\"Strong, nationally leading @NMEnvDep rules will build upon the foundation laid by @GovMLG\\'s Oil Conservation Divis… https://t.co/9cTFiNYweI',\n",
              " '@FauxRight “Stop flaring you idiots!” needs to be the RRC slogan of the decade',\n",
              " '\"Strong, nationally leading @NMEnvDep rules will build upon the foundation laid by @GovMLG\\'s Oil Conservation Divis… https://t.co/dltPBov6Mv',\n",
              " '@permianator @bigD_oil It’s the gas inlet line to the chem tower. they started flaring and realized the bubble towe… https://t.co/T4862OUuZo',\n",
              " 'RT @HoustonFowler: Bitcoin miners help US oil producers cut flaring in the Bakken, and soon in the Permian, writes @scunningha  https://t.c…',\n",
              " 'RT @HoustonFowler: Bitcoin miners help US oil producers cut flaring in the Bakken, and soon in the Permian, writes @scunningha  https://t.c…',\n",
              " 'Bitcoin miners help US oil producers cut flaring\\n\\n#blockchain #dlike #cryptocurrency\\nhttps://t.co/S2CRWaO5NA',\n",
              " 'Here is a story about bitcoin and energy use that does not pan out how these things usually do, via @scunningha for… https://t.co/KJECaom2Z0',\n",
              " 'Bitcoin miners help US oil producers cut flaring in the Bakken, and soon in the Permian, writes @scunningha… https://t.co/NDgc1hyn73',\n",
              " 'RT @WBG_Energy: #GasFlaring per barrel of oil produced, or “flaring intensity,” increased significantly in 2020 in fragile or conflict-affe…',\n",
              " 'RT @WBG_Energy: #GasFlaring per barrel of oil produced, or “flaring intensity,” increased significantly in 2020 in fragile or conflict-affe…',\n",
              " '#GasFlaring per barrel of oil produced, or “flaring intensity,” increased significantly in 2020 in fragile or confl… https://t.co/tuqY5oIKVR',\n",
              " 'Share of CO2 emissions in #Liberia in 2019:\\nOil: 92.9%\\nCement: 7.1%\\nCoal: 0.0%\\nGas: 0.0%\\nFlaring: 0.0%\\nOther: 0.0%… https://t.co/D7SuAbBEtZ',\n",
              " 'Commissioners said flaring rates are going down, but it could be the result of fewer new oil wells are being drille… https://t.co/sgeF95ypDg',\n",
              " 'There are 25 #flaring rule exception requests on the agenda. RRC data shows that flaring rates track with gas that… https://t.co/Ny6xfP17vR',\n",
              " '@EXONMOBlL a pledge to reduce its net carbon emissions to \"0\" by2050.European rivals define as “beauty competition\"… https://t.co/rOUssx7Fgj',\n",
              " 'RT @accountable_us: Methane pollution, which Build Back Better aims to regulate via fees, accounts for ONE-FIFTH of human-caused planetary…',\n",
              " 'RT @accountable_us: Methane pollution, which Build Back Better aims to regulate via fees, accounts for ONE-FIFTH of human-caused planetary…',\n",
              " \"@Brobberspam1 Absolute rubbish ! You have stated that 'Naff all going on '   'knackered it up again '\\n\\nAnd you said… https://t.co/bjI4fZBqPh\",\n",
              " '#UJO Interesting to read your tweet below now @Brobberspam1 considering EPR Compliance Assessment Report I tweeted… https://t.co/e0laFeM3q2',\n",
              " 'Share of CO2 emissions in #Niue in 2019:\\nOil: 100.0%\\nCoal: 0.0%\\nGas: 0.0%\\nCement: 0.0%\\nFlaring: 0.0%\\nOther: 0.0%\\n\\nD… https://t.co/7CKurAO1Yf',\n",
              " 'RT @accountable_us: Methane pollution, which Build Back Better aims to regulate via fees, accounts for ONE-FIFTH of human-caused planetary…',\n",
              " 'Big Oil Is Lying Like Mad to Keep Methane Pollution Fees out of Budget Bill https://t.co/NBQVS6yrIR',\n",
              " '@SGBarbour Come down to Australia mate. Alot of gas and oil plants existing and under development and no one is usi… https://t.co/o6mpvNWCVp',\n",
              " 'RT @sherrifflucy: Do I know anyone on here who works with communities of colour in Texas with regards to environmental justice issues (spec…',\n",
              " '@Javelinas1355 Beautiful, but to many oil rigs and flaring.',\n",
              " 'RT @sherrifflucy: Do I know anyone on here who works with communities of colour in Texas with regards to environmental justice issues (spec…',\n",
              " 'RT @MotherJones: Big Oil is lying like mad to keep methane pollution fees out of budget bill https://t.co/DeLamYl8hm',\n",
              " 'RT @accountable_us: Methane pollution, which Build Back Better aims to regulate via fees, accounts for ONE-FIFTH of human-caused planetary…',\n",
              " 'RT @accountable_us: Methane pollution, which Build Back Better aims to regulate via fees, accounts for ONE-FIFTH of human-caused planetary…',\n",
              " 'RT @accountable_us: Methane pollution, which Build Back Better aims to regulate via fees, accounts for ONE-FIFTH of human-caused planetary…',\n",
              " 'RT @accountable_us: Methane pollution, which Build Back Better aims to regulate via fees, accounts for ONE-FIFTH of human-caused planetary…',\n",
              " 'RT @accountable_us: Methane pollution, which Build Back Better aims to regulate via fees, accounts for ONE-FIFTH of human-caused planetary…',\n",
              " 'Methane pollution, which Build Back Better aims to regulate via fees, accounts for ONE-FIFTH of human-caused planet… https://t.co/uxQtw9FleP',\n",
              " \"RT @EDFtx: Rampant flaring throughout Texas' Permian Basin wastes valuable product and is a major source of climate-warming methane polluti…\",\n",
              " 'RT @MotherJones: Big Oil is lying like mad to keep methane pollution fees out of budget bill https://t.co/DeLamYl8hm',\n",
              " 'Big Oil is lying like mad to keep methane pollution fees out of budget bill https://t.co/Fcydw4zwCb via @MotherJones',\n",
              " 'RT @batshitGOP: @CNN Mind you that oil drilling companies are flaring off the natural gas instead of taking on the expense of capture to su…',\n",
              " 'RT @MotherJones: Big Oil is lying like mad to keep methane pollution fees out of budget bill https://t.co/DeLamYl8hm',\n",
              " \"RT @EDFtx: Rampant flaring throughout Texas' Permian Basin wastes valuable product and is a major source of climate-warming methane polluti…\",\n",
              " \"Rampant flaring throughout Texas' Permian Basin wastes valuable product and is a major source of climate-warming me… https://t.co/ENYJGOWffO\",\n",
              " 'RT @PaulEDawson: Almost 20m tonnes of CO2 was released into the atmosphere over the five years to 2019 by \"flaring and venting\" the extra g…',\n",
              " 'RT @sherrifflucy: Do I know anyone on here who works with communities of colour in Texas with regards to environmental justice issues (spec…',\n",
              " 'Share of CO2 emissions in #Djibouti in 2019:\\nOil: 82.9%\\nCement: 17.1%\\nCoal: 0.0%\\nGas: 0.0%\\nFlaring: 0.0%\\nOther: 0.0… https://t.co/epwSM273wY',\n",
              " 'Gas flaring is losing up to US$82 billion*, according to @globaldataplc. @BelovaAnnaG points out the advantage of s… https://t.co/Z1UyxychVi',\n",
              " '@CNN Mind you that oil drilling companies are flaring off the natural gas instead of taking on the expense of captu… https://t.co/wYTj7J6XOH',\n",
              " 'RT @sherrifflucy: Do I know anyone on here who works with communities of colour in Texas with regards to environmental justice issues (spec…',\n",
              " 'RT @sherrifflucy: Do I know anyone on here who works with communities of colour in Texas with regards to environmental justice issues (spec…',\n",
              " 'Do I know anyone on here who works with communities of colour in Texas with regards to environmental justice issues… https://t.co/PmRdzx2IAg',\n",
              " 'Big Oil Is Lying Like Mad to Keep Methane Pollution Fees out of Budget Bill #SmartNews  https://t.co/jyK6JQ3cfl',\n",
              " 'Share of CO2 emissions in #Rwanda in 2019:\\nOil: 84.5%\\nCement: 11.8%\\nGas: 3.7%\\nCoal: 0.0%\\nFlaring: 0.0%\\nOther: 0.0%… https://t.co/WYwkvWfd6h']"
            ]
          },
          "metadata": {},
          "execution_count": 383
        }
      ]
    },
    {
      "cell_type": "code",
      "metadata": {
        "id": "Y1DgEk1hYTSZ"
      },
      "source": [
        "df = pd.DataFrame(all_tweets, columns=['content'])"
      ],
      "execution_count": 16,
      "outputs": []
    },
    {
      "cell_type": "code",
      "metadata": {
        "colab": {
          "base_uri": "https://localhost:8080/",
          "height": 406
        },
        "id": "hKu6uSe5rDAy",
        "outputId": "010e8ee6-3c63-490d-a714-6ac64ad76082"
      },
      "source": [
        "df"
      ],
      "execution_count": 17,
      "outputs": [
        {
          "output_type": "execute_result",
          "data": {
            "text/html": [
              "<div>\n",
              "<style scoped>\n",
              "    .dataframe tbody tr th:only-of-type {\n",
              "        vertical-align: middle;\n",
              "    }\n",
              "\n",
              "    .dataframe tbody tr th {\n",
              "        vertical-align: top;\n",
              "    }\n",
              "\n",
              "    .dataframe thead th {\n",
              "        text-align: right;\n",
              "    }\n",
              "</style>\n",
              "<table border=\"1\" class=\"dataframe\">\n",
              "  <thead>\n",
              "    <tr style=\"text-align: right;\">\n",
              "      <th></th>\n",
              "      <th>content</th>\n",
              "    </tr>\n",
              "  </thead>\n",
              "  <tbody>\n",
              "    <tr>\n",
              "      <th>0</th>\n",
              "      <td>RT @CyrilCoste: 3⃣questions to Matthias Rebell...</td>\n",
              "    </tr>\n",
              "    <tr>\n",
              "      <th>1</th>\n",
              "      <td>RT @CyrilCoste: 3⃣questions to Matthias Rebell...</td>\n",
              "    </tr>\n",
              "    <tr>\n",
              "      <th>2</th>\n",
              "      <td>Carrying on as before is no longer an option. ...</td>\n",
              "    </tr>\n",
              "    <tr>\n",
              "      <th>3</th>\n",
              "      <td>Manufacturers are using #data and digital tool...</td>\n",
              "    </tr>\n",
              "    <tr>\n",
              "      <th>4</th>\n",
              "      <td>RT @SiemensMobility: Happy #HydrogenDay &amp;amp; ...</td>\n",
              "    </tr>\n",
              "    <tr>\n",
              "      <th>...</th>\n",
              "      <td>...</td>\n",
              "    </tr>\n",
              "    <tr>\n",
              "      <th>188</th>\n",
              "      <td>RT @SiemensMobility: Happy #HydrogenDay &amp;amp; ...</td>\n",
              "    </tr>\n",
              "    <tr>\n",
              "      <th>189</th>\n",
              "      <td>RT @SiemensMobility: Happy #HydrogenDay &amp;amp; ...</td>\n",
              "    </tr>\n",
              "    <tr>\n",
              "      <th>190</th>\n",
              "      <td>Happy #HydrogenDay &amp;amp; #FuelCellDay! Today, ...</td>\n",
              "    </tr>\n",
              "    <tr>\n",
              "      <th>191</th>\n",
              "      <td>RT @MatRebellius: Europe aims to become the fi...</td>\n",
              "    </tr>\n",
              "    <tr>\n",
              "      <th>192</th>\n",
              "      <td>RT @THEnergyNet: Monte Rosa Hut🇨🇭 is located i...</td>\n",
              "    </tr>\n",
              "  </tbody>\n",
              "</table>\n",
              "<p>193 rows × 1 columns</p>\n",
              "</div>"
            ],
            "text/plain": [
              "                                               content\n",
              "0    RT @CyrilCoste: 3⃣questions to Matthias Rebell...\n",
              "1    RT @CyrilCoste: 3⃣questions to Matthias Rebell...\n",
              "2    Carrying on as before is no longer an option. ...\n",
              "3    Manufacturers are using #data and digital tool...\n",
              "4    RT @SiemensMobility: Happy #HydrogenDay &amp; ...\n",
              "..                                                 ...\n",
              "188  RT @SiemensMobility: Happy #HydrogenDay &amp; ...\n",
              "189  RT @SiemensMobility: Happy #HydrogenDay &amp; ...\n",
              "190  Happy #HydrogenDay &amp; #FuelCellDay! Today, ...\n",
              "191  RT @MatRebellius: Europe aims to become the fi...\n",
              "192  RT @THEnergyNet: Monte Rosa Hut🇨🇭 is located i...\n",
              "\n",
              "[193 rows x 1 columns]"
            ]
          },
          "metadata": {},
          "execution_count": 17
        }
      ]
    },
    {
      "cell_type": "code",
      "metadata": {
        "id": "OtxYS0dToyEv"
      },
      "source": [
        "df.to_csv('renewable_energy_tweets.csv', index=None)"
      ],
      "execution_count": 12,
      "outputs": []
    }
  ]
}