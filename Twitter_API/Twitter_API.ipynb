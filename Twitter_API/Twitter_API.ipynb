{
 "cells": [
  {
   "cell_type": "code",
   "execution_count": 1,
   "metadata": {},
   "outputs": [],
   "source": [
    "import sys\n",
    "sys.path.append(\"src\")\n",
    "\n",
    "import tweepy as twp\n",
    "\n",
    "from twitter_agent import TwitterAgent\n",
    "\n",
    "\n",
    "%load_ext autoreload\n",
    "%autoreload 2"
   ]
  },
  {
   "cell_type": "code",
   "execution_count": 2,
   "metadata": {},
   "outputs": [],
   "source": [
    "# define the parameters\n",
    "# for safety reason, I cannot display the keys and secrets here, this should be added when actually used. \n",
    "\n",
    "params = {\n",
    "\n",
    "}"
   ]
  },
  {
   "cell_type": "code",
   "execution_count": 3,
   "metadata": {},
   "outputs": [],
   "source": [
    "# create authentication handler\n",
    "\n",
    "auth = twp.AppAuthHandler(params[\"consumer_key\"], params[\"consumer_secret\"])"
   ]
  },
  {
   "cell_type": "code",
   "execution_count": 4,
   "metadata": {},
   "outputs": [
    {
     "name": "stdout",
     "output_type": "stream",
     "text": [
      "@CoderDrax  Latest Covid Updates:-\n",
      "                           Total Cases : 1,269,002… https://t.co/s5mSOy82p5\n",
      "日本のツイートトレンドTOP10は['#乃木坂46ANN', '#佐久間宣行ANN0', 'Kixstar', '#マブラヴアニメ', 'エキノコックス', '消費税廃止', '#恋です', '#不知火建設', '道路案内標識',… https://t.co/78VxXHb2C9\n",
      "日本のツイートトレンドTOP10は['#乃木坂46ANN', '#佐久間宣行ANN0', 'Kixstar', '#マブラヴアニメ', '#恋です', 'エキノコックス', '#不知火建設', '消費税廃止', 'EDG相手', 'ポッピー']です #Python #Tweepy\n",
      "@CoderDrax  Latest Covid Updates:-\n",
      "                           Total Cases : 1,269,002… https://t.co/7nHCbuyETy\n",
      "@CoderDrax  Latest Covid Updates:-\n",
      "                           Total Cases : 1,269,002… https://t.co/PcdNNO7HUd\n",
      "日本のツイートトレンドTOP10は['#乃木坂46ANN', '#マブラヴアニメ', '#恋です', '#不知火建設', 'Kixstar', 'エキノコックス', '#チャンありがとう', '道路案内標識', 'EDG相手',… https://t.co/9bVYD1dUOH\n",
      "RT @chinryu: 日本のツイートトレンドTOP10は['#乃木坂46ANN', '#恋です', '#不知火建設', '#チャンありがとう', 'エキノコックス', '#マブラヴアニメ', 'シャイロック', '道路案内標識', 'キラウシ', 'スタマス']です #Py…\n",
      "日本のツイートトレンドTOP10は['#乃木坂46ANN', '#恋です', '#不知火建設', '#チャンありがとう', 'エキノコックス', '#マブラヴアニメ', 'シャイロック', '道路案内標識', 'キラウシ', 'スタマス']です #Python #Tweepy\n",
      "@CoderDrax  Latest Covid Updates:-\n",
      "                           Total Cases : 1,269,002… https://t.co/AQDc4A5XS4\n",
      "日本のツイートトレンドTOP10は['#恋です', '#チャンありがとう', '#不知火建設', '#キスラジ', 'エキノコックス', '#Aぇヤンタン', 'シャイロック', '道路案内標識', 'キラウシ', '肝機能障害']です #Python #Tweepy\n"
     ]
    }
   ],
   "source": [
    "# test the API\n",
    "\n",
    "api = twp.API(auth)\n",
    "for tweet in twp.Cursor(api.search_tweets, q='tweepy').items(10):\n",
    "    print(tweet.text)"
   ]
  },
  {
   "cell_type": "code",
   "execution_count": 8,
   "metadata": {},
   "outputs": [],
   "source": [
    "auth1 = twp.OAuthHandler(params[\"consumer_key\"], params[\"consumer_secret\"])\n",
    "auth1.set_access_token(params[\"access_token\"], params[\"access_token_secret\"])"
   ]
  },
  {
   "cell_type": "code",
   "execution_count": null,
   "metadata": {},
   "outputs": [],
   "source": []
  }
 ],
 "metadata": {
  "interpreter": {
   "hash": "31f2aee4e71d21fbe5cf8b01ff0e069b9275f58929596ceb00d14d90e3e16cd6"
  },
  "kernelspec": {
   "display_name": "Python 3 (ipykernel)",
   "language": "python",
   "name": "python3"
  },
  "language_info": {
   "codemirror_mode": {
    "name": "ipython",
    "version": 3
   },
   "file_extension": ".py",
   "mimetype": "text/x-python",
   "name": "python",
   "nbconvert_exporter": "python",
   "pygments_lexer": "ipython3",
   "version": "3.8.10"
  }
 },
 "nbformat": 4,
 "nbformat_minor": 2
}
