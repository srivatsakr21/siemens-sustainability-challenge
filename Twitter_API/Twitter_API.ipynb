{
 "cells": [
  {
   "cell_type": "code",
   "execution_count": 1,
   "metadata": {},
   "outputs": [],
   "source": [
    "import sys\n",
    "sys.path.append(\"src\")\n",
    "\n",
    "import tweepy as twp\n",
    "\n",
    "from twitter_agent import TwitterAgent\n",
    "\n",
    "\n",
    "%load_ext autoreload\n",
    "%autoreload 2"
   ]
  },
  {
   "cell_type": "code",
   "execution_count": 2,
   "metadata": {},
   "outputs": [],
   "source": [
    "# define the parameters\n",
    "\n",
    "params = {\n",
    "    \"consumer_key\": \"\", \n",
    "    \"consumer_secret\": \"\", \n",
    "    \"access_token\": \"\", \n",
    "    \"access_token_secret\": \"\", \n",
    "    \"saving_path\": \"data\", # path to saved tweet.txt files\n",
    "    \"NUM\": 10, # Maximum number of the tweets to be extracted\n",
    "}\n",
    "\n",
    "# define the keywords used for searching\n",
    "\n",
    "keywords = [\n",
    "    ['Apple'], \n",
    "    ['Apple', 'Macbook'], \n",
    "    ['Google'], \n",
    "    ['Amazon']\n",
    "]"
   ]
  },
  {
   "cell_type": "code",
   "execution_count": 3,
   "metadata": {},
   "outputs": [],
   "source": [
    "# initialize TwitterAgent instance\n",
    "\n",
    "agent = TwitterAgent(params)"
   ]
  },
  {
   "cell_type": "code",
   "execution_count": 4,
   "metadata": {},
   "outputs": [
    {
     "name": "stdout",
     "output_type": "stream",
     "text": [
      "\u001b[0;32mThe stream is started.\u001b[0;0m\n"
     ]
    },
    {
     "name": "stderr",
     "output_type": "stream",
     "text": [
      "Stream connection closed by Twitter\n"
     ]
    },
    {
     "name": "stdout",
     "output_type": "stream",
     "text": [
      "\u001b[0;32mThe stream is done. The tweets are store in txt file under data\u001b[0;0m\n",
      "\u001b[0;32mThe stream is started.\u001b[0;0m\n"
     ]
    },
    {
     "name": "stderr",
     "output_type": "stream",
     "text": [
      "Stream connection closed by Twitter\n"
     ]
    },
    {
     "name": "stdout",
     "output_type": "stream",
     "text": [
      "\u001b[0;32mThe stream is done. The tweets are store in txt file under data\u001b[0;0m\n",
      "\u001b[0;32mThe stream is started.\u001b[0;0m\n"
     ]
    },
    {
     "name": "stderr",
     "output_type": "stream",
     "text": [
      "Stream connection closed by Twitter\n"
     ]
    },
    {
     "name": "stdout",
     "output_type": "stream",
     "text": [
      "\u001b[0;32mThe stream is done. The tweets are store in txt file under data\u001b[0;0m\n",
      "\u001b[0;32mThe stream is started.\u001b[0;0m\n"
     ]
    },
    {
     "name": "stderr",
     "output_type": "stream",
     "text": [
      "Stream connection closed by Twitter\n"
     ]
    },
    {
     "name": "stdout",
     "output_type": "stream",
     "text": [
      "\u001b[0;32mThe stream is done. The tweets are store in txt file under data\u001b[0;0m\n"
     ]
    }
   ],
   "source": [
    "# search for tweets according to keywords\n",
    "\n",
    "agent.save_tweets(keywords = keywords)"
   ]
  },
  {
   "cell_type": "code",
   "execution_count": null,
   "metadata": {},
   "outputs": [],
   "source": []
  }
 ],
 "metadata": {
  "interpreter": {
   "hash": "31f2aee4e71d21fbe5cf8b01ff0e069b9275f58929596ceb00d14d90e3e16cd6"
  },
  "kernelspec": {
   "display_name": "Python 3 (ipykernel)",
   "language": "python",
   "name": "python3"
  },
  "language_info": {
   "codemirror_mode": {
    "name": "ipython",
    "version": 3
   },
   "file_extension": ".py",
   "mimetype": "text/x-python",
   "name": "python",
   "nbconvert_exporter": "python",
   "pygments_lexer": "ipython3",
   "version": "3.8.10"
  }
 },
 "nbformat": 4,
 "nbformat_minor": 2
}
